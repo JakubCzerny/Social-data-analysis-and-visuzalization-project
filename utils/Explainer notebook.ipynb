{
 "cells": [
  {
   "cell_type": "markdown",
   "metadata": {},
   "source": [
    "# Explainer notebook - Uk road accidents analysis\n",
    "\n",
    "## 1. Motivation\n",
    "- ** What is your dataset?**\n",
    "\n",
    "    The dataset we inspect in this assignment is available at [data.gov.uk](#https://data.gov.uk/dataset/road-accidents-safety-data). It contains information about Great Britain road accidents circumstances, vehicle and driver data and outcomes as far back as 1979. The data is based on (standard form) police reports (so it only includes officially reported accidents).  There are three linked sub datasets for each year: Accidents, Casulties and Vehicles. To get a better overview of the included attributes, please see the listing of the attributes of each below:\n",
    "\n",
    "    * Accidents: accident index, location easting OSGR, location northing OSGR, longitude, latitude, police force, accident severity, number of vehicles, number of casualties, date, day of week, time, local authority district, local authority(Highway), 1st road class, 1st road number, road type, speed limit, junction detail, junction control, 2nd road class, 2nd road number, pedestrian crossing human control, pedestrian crossing-physical facilities, light conditions, weather conditions, road surface conditions, special conditions at site, carriageway hazards, urban or rural area, did police officer attend scene of accident, LSOA of accident location\n",
    "\n",
    "    * Casualties: accident index, vehicle reference, casualty reference, casualty_C class, sex of casualty, age of casualty, age band of casualty, casualty severity, pedestrian location, pedestrian movement, car passenger, bus or coach passenger, pedestrian road maintenance worker, casualty type, casualty home area type, casualty IMD decile \n",
    "\n",
    "    * Vehicles: Accident index, vehicle reference, vehicle type, towing and articulation, vehicle manoeuvre, vehicle location, restricted lane, junction location, skidding and overturning, hit object in carriageway, vehicle leaving carriageway, hit object off carriageway, 1st point of impact, was vehicle left hand drive, journey purpose of driver, sex of driver, age of driver,  age band of driver, engine capacity(CC), propulsion code, age of vehicle, driver IMD decile, driver home area type, vehicle IMD decile\n",
    "\n",
    "\n",
    "- **Why did you choose this/these particular dataset(s)?**\n",
    "\n",
    "    We chose to look into this dataset for several reasons: Firstly, we wanted to look into a burning problem of the society - traffic accidents is still a big chalenge to overcome, killing around 26000 people in Europe only in the last year. Secondly, we wanted to explore a more \"local\" area - however datasets from Denmark can be challenging to work with in our group due to the language - so we looked for an English one. Finally, we spent a good deal of time to find datasets that allow for a lot of opportunities for exploration, in terms of machine learnning models and visualisation and this is particulary where this data set stands out, as it includes an incredible number of attributes. \n",
    "    \n",
    "\n",
    "- **What was your goal for the end user's experience?**\n",
    "\n",
    "    We think that the results of our analysis could be used by the general public, meaning people that want to be better at staying safe in the traffic, authorities - to help them target their law enforcements and regulations at the most problematic areas, but also by others - such as insurance companies, to provide a fact base for pricing strategies. \n",
    "\n",
    "\n",
    "## 2. Basic stats. Let's understand the dataset better**"
   ]
  },
  {
   "cell_type": "markdown",
   "metadata": {},
   "source": [
    "- **Write about your choices in data cleaning and preprocessing**\n"
   ]
  },
  {
   "cell_type": "code",
   "execution_count": null,
   "metadata": {
    "collapsed": true
   },
   "outputs": [],
   "source": []
  },
  {
   "cell_type": "markdown",
   "metadata": {},
   "source": [
    "- **Write a short section that discusses the dataset stats (here you can recycle the work you did for Project Assignment A)**"
   ]
  },
  {
   "cell_type": "code",
   "execution_count": null,
   "metadata": {
    "collapsed": true
   },
   "outputs": [],
   "source": []
  },
  {
   "cell_type": "code",
   "execution_count": null,
   "metadata": {
    "collapsed": true
   },
   "outputs": [],
   "source": []
  },
  {
   "cell_type": "code",
   "execution_count": null,
   "metadata": {
    "collapsed": true
   },
   "outputs": [],
   "source": []
  },
  {
   "cell_type": "code",
   "execution_count": null,
   "metadata": {
    "collapsed": true
   },
   "outputs": [],
   "source": []
  },
  {
   "cell_type": "markdown",
   "metadata": {},
   "source": [
    "## 3. Theory. Which theoretical tools did you use?\n",
    "- **Describe which machine learning tools you use and why the tools you've chosen are right for the problem you're solving.**\n",
    "- **Talk about your model selection. How did you split the data in to test/training. Did you use cross validation?**\n",
    "- **Explain the model performance. How did you measure it? Are your results what you expected?**\n",
    "\n"
   ]
  },
  {
   "cell_type": "markdown",
   "metadata": {},
   "source": [
    "## 4. Visualizations\n",
    "- **Explain the visualizations you've chosen.**\n",
    "- **Why are they right for the story you want to tell?**"
   ]
  },
  {
   "cell_type": "markdown",
   "metadata": {},
   "source": [
    "## 5. Discussion. Think critically about your creation\n",
    "- **What went well?**\n",
    "- **What is still missing? What could be improved?, Why?**"
   ]
  },
  {
   "cell_type": "markdown",
   "metadata": {},
   "source": []
  },
  {
   "cell_type": "code",
   "execution_count": null,
   "metadata": {
    "collapsed": true
   },
   "outputs": [],
   "source": []
  },
  {
   "cell_type": "code",
   "execution_count": null,
   "metadata": {
    "collapsed": true
   },
   "outputs": [],
   "source": []
  },
  {
   "cell_type": "code",
   "execution_count": null,
   "metadata": {
    "collapsed": true
   },
   "outputs": [],
   "source": []
  },
  {
   "cell_type": "code",
   "execution_count": null,
   "metadata": {
    "collapsed": true
   },
   "outputs": [],
   "source": []
  },
  {
   "cell_type": "code",
   "execution_count": null,
   "metadata": {
    "collapsed": true
   },
   "outputs": [],
   "source": []
  },
  {
   "cell_type": "code",
   "execution_count": null,
   "metadata": {
    "collapsed": true
   },
   "outputs": [],
   "source": []
  },
  {
   "cell_type": "code",
   "execution_count": null,
   "metadata": {
    "collapsed": true
   },
   "outputs": [],
   "source": []
  },
  {
   "cell_type": "code",
   "execution_count": null,
   "metadata": {
    "collapsed": true
   },
   "outputs": [],
   "source": []
  },
  {
   "cell_type": "code",
   "execution_count": null,
   "metadata": {
    "collapsed": true
   },
   "outputs": [],
   "source": []
  }
 ],
 "metadata": {
  "anaconda-cloud": {},
  "kernelspec": {
   "display_name": "Python [conda root]",
   "language": "python",
   "name": "conda-root-py"
  },
  "language_info": {
   "codemirror_mode": {
    "name": "ipython",
    "version": 2
   },
   "file_extension": ".py",
   "mimetype": "text/x-python",
   "name": "python",
   "nbconvert_exporter": "python",
   "pygments_lexer": "ipython2",
   "version": "2.7.12"
  }
 },
 "nbformat": 4,
 "nbformat_minor": 1
}
